{
 "cells": [
  {
   "cell_type": "code",
   "execution_count": 2,
   "id": "ffde35eb-00d2-4dab-9db9-7305217822e2",
   "metadata": {},
   "outputs": [],
   "source": [
    "import abc\n",
    "class pwskills:\n",
    "    @abc.abstractmethod\n",
    "    def students_details(self):\n",
    "        pass\n",
    "    @abc.abstractmethod\n",
    "    def students_assignment(self):\n",
    "        pass\n",
    "    @abc.abstractmethod\n",
    "    def students_marks(self):\n",
    "        pass\n"
   ]
  },
  {
   "cell_type": "code",
   "execution_count": 3,
   "id": "7059a194-016a-4272-9976-d43496a85901",
   "metadata": {},
   "outputs": [],
   "source": [
    "class student_details(pwskills):\n",
    "    def student_details(self):\n",
    "        return \"this is a meth for taking student details\"\n",
    "    def students_assignment(self):\n",
    "        return \"this is a meth for assigning details of a student\"\n",
    "    def students_marks(self):\n",
    "        return \"this is a method to get the marks of a student\"\n",
    "\n"
   ]
  },
  {
   "cell_type": "code",
   "execution_count": 4,
   "id": "63420f79-43ba-4f72-8b01-a947835b27e5",
   "metadata": {},
   "outputs": [],
   "source": [
    "class data_science_masters(pwskills):\n",
    "    def students_details(self):\n",
    "        return \"this will return a student details for data science masters\"\n",
    "    def students_assignment(self):\n",
    "        return \" this will give you a student assignment detailed for data science masters\""
   ]
  },
  {
   "cell_type": "code",
   "execution_count": 6,
   "id": "c5363fc9-fcc8-4cf6-a722-bc4b9dacd06e",
   "metadata": {},
   "outputs": [
    {
     "data": {
      "text/plain": [
       "'this will return a student details for data science masters'"
      ]
     },
     "execution_count": 6,
     "metadata": {},
     "output_type": "execute_result"
    }
   ],
   "source": [
    "dsm=data_science_masters()\n",
    "dsm.students_details()"
   ]
  },
  {
   "cell_type": "code",
   "execution_count": null,
   "id": "ba816086-3840-4fbc-abdb-24f0f7c5fc60",
   "metadata": {},
   "outputs": [],
   "source": []
  }
 ],
 "metadata": {
  "kernelspec": {
   "display_name": "Python 3 (ipykernel)",
   "language": "python",
   "name": "python3"
  },
  "language_info": {
   "codemirror_mode": {
    "name": "ipython",
    "version": 3
   },
   "file_extension": ".py",
   "mimetype": "text/x-python",
   "name": "python",
   "nbconvert_exporter": "python",
   "pygments_lexer": "ipython3",
   "version": "3.10.8"
  }
 },
 "nbformat": 4,
 "nbformat_minor": 5
}
