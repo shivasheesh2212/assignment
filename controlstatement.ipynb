{
 "cells": [
  {
   "cell_type": "code",
   "execution_count": 1,
   "id": "ece255e7-c30e-402e-8203-600bcd419492",
   "metadata": {},
   "outputs": [
    {
     "name": "stdin",
     "output_type": "stream",
     "text": [
      "enter your marks 25\n"
     ]
    },
    {
     "name": "stdout",
     "output_type": "stream",
     "text": [
      "you are going to A3 batch\n"
     ]
    }
   ],
   "source": [
    "marks=int(input(\"enter your marks\"))\n",
    "if marks>=80:\n",
    "    print(\"you are going to A0 batch\")\n",
    "elif 80>marks and marks>=60:\n",
    "    print(\"you are going to A1 batch\")\n",
    "elif 60>marks and marks>=40:\n",
    "    print(\"you are going to A2 batch\")\n",
    "else:\n",
    "    print(\"you are going to A3 batch\")"
   ]
  },
  {
   "cell_type": "code",
   "execution_count": 1,
   "id": "4cde431d-ae6b-4f49-83d7-044027fc4893",
   "metadata": {},
   "outputs": [
    {
     "name": "stdin",
     "output_type": "stream",
     "text": [
      "enter the price 8500\n"
     ]
    },
    {
     "name": "stdout",
     "output_type": "stream",
     "text": [
      "i will not purchase\n",
      "this is too much\n"
     ]
    }
   ],
   "source": [
    "price=int(input(\"enter the price\"))\n",
    "if price>1000:\n",
    "          print(\"i will not purchase\")\n",
    "if price>7000:\n",
    "          print(\"this is too much\")\n",
    "else:\n",
    "          print(\"i will purchase\")"
   ]
  },
  {
   "cell_type": "code",
   "execution_count": 2,
   "id": "98a4f75e-e9cf-4df8-bf71-1aca83258c84",
   "metadata": {},
   "outputs": [],
   "source": [
    "l=[1,3,4,2,5,6,3,1,3,2,6]"
   ]
  },
  {
   "cell_type": "code",
   "execution_count": null,
   "id": "0c576b5c-a64a-4e88-810c-e99e7753cc85",
   "metadata": {},
   "outputs": [],
   "source": [
    "for i in l:\n",
    "    print(i+1)\n",
    "    l.append(i+1)\n"
   ]
  },
  {
   "cell_type": "code",
   "execution_count": null,
   "id": "f75ce6b8-b52f-44fd-a05a-2877e00f141e",
   "metadata": {},
   "outputs": [],
   "source": [
    "l"
   ]
  },
  {
   "cell_type": "code",
   "execution_count": null,
   "id": "828517df-6c29-4dc2-8362-7541bf1c54db",
   "metadata": {},
   "outputs": [],
   "source": []
  }
 ],
 "metadata": {
  "kernelspec": {
   "display_name": "Python 3 (ipykernel)",
   "language": "python",
   "name": "python3"
  },
  "language_info": {
   "codemirror_mode": {
    "name": "ipython",
    "version": 3
   },
   "file_extension": ".py",
   "mimetype": "text/x-python",
   "name": "python",
   "nbconvert_exporter": "python",
   "pygments_lexer": "ipython3",
   "version": "3.10.8"
  }
 },
 "nbformat": 4,
 "nbformat_minor": 5
}
