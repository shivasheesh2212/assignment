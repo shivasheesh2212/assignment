{
 "cells": [
  {
   "cell_type": "code",
   "execution_count": 4,
   "id": "952384b7-ce69-4f51-bd20-851b6f1b6962",
   "metadata": {},
   "outputs": [],
   "source": [
    "class test:\n",
    "    def __init__(self,a,b):\n",
    "        self.a=a\n",
    "        self.b=b\n",
    "   "
   ]
  },
  {
   "cell_type": "code",
   "execution_count": 5,
   "id": "3bf078c5-0bb4-4ebe-a71d-c21b11bccef0",
   "metadata": {},
   "outputs": [],
   "source": [
    " t=test(23,24)"
   ]
  },
  {
   "cell_type": "code",
   "execution_count": 6,
   "id": "d28cc49d-c31b-409e-b77c-f8bb9a545b6f",
   "metadata": {},
   "outputs": [],
   "source": [
    "t.a=2345345"
   ]
  },
  {
   "cell_type": "code",
   "execution_count": 31,
   "id": "0faff3f0-2c3e-4f1b-a9f5-22cd960d62fa",
   "metadata": {},
   "outputs": [],
   "source": [
    "class car:\n",
    "    def __init__(self,year,make,model,speed):\n",
    "        self.__year=year\n",
    "        self.__make=make\n",
    "        self.__model=model\n",
    "        self.__speed=0\n",
    "        \n",
    "    def set_speed(self,speed):\n",
    "        self.__speed=0 if speed<0 else speed\n",
    "    def get_speed(self):\n",
    "        return self.__speed"
   ]
  },
  {
   "cell_type": "code",
   "execution_count": 32,
   "id": "8e9af411-db08-4349-ac1d-df8ae2cdbd34",
   "metadata": {},
   "outputs": [],
   "source": [
    "c=car(2021,\"toyota\",\"innova\",120)"
   ]
  },
  {
   "cell_type": "code",
   "execution_count": 28,
   "id": "ae1f6139-1c19-4842-9232-1a3652bfa81a",
   "metadata": {},
   "outputs": [
    {
     "ename": "AttributeError",
     "evalue": "'car' object has no attribute '__year'",
     "output_type": "error",
     "traceback": [
      "\u001b[0;31m---------------------------------------------------------------------------\u001b[0m",
      "\u001b[0;31mAttributeError\u001b[0m                            Traceback (most recent call last)",
      "Cell \u001b[0;32mIn[28], line 1\u001b[0m\n\u001b[0;32m----> 1\u001b[0m \u001b[43mc\u001b[49m\u001b[38;5;241;43m.\u001b[39;49m\u001b[43m__year\u001b[49m\n",
      "\u001b[0;31mAttributeError\u001b[0m: 'car' object has no attribute '__year'"
     ]
    }
   ],
   "source": [
    "c.__year"
   ]
  },
  {
   "cell_type": "code",
   "execution_count": 29,
   "id": "afd39eb6-9481-457d-8b8e-e36b1945ea82",
   "metadata": {},
   "outputs": [],
   "source": [
    "#nahi hua access "
   ]
  },
  {
   "cell_type": "code",
   "execution_count": 30,
   "id": "73af97e8-e15f-4f33-b150-55c10d1b7925",
   "metadata": {},
   "outputs": [
    {
     "data": {
      "text/plain": [
       "2021"
      ]
     },
     "execution_count": 30,
     "metadata": {},
     "output_type": "execute_result"
    }
   ],
   "source": [
    "c._car__year"
   ]
  },
  {
   "cell_type": "code",
   "execution_count": 34,
   "id": "1cab6339-4126-40e9-b7b9-e7608bd1d1e9",
   "metadata": {},
   "outputs": [],
   "source": [
    "c.set_speed(-15)"
   ]
  },
  {
   "cell_type": "code",
   "execution_count": 36,
   "id": "1112edc6-f8f8-4380-903e-e3ae3b97eabb",
   "metadata": {},
   "outputs": [
    {
     "data": {
      "text/plain": [
       "0"
      ]
     },
     "execution_count": 36,
     "metadata": {},
     "output_type": "execute_result"
    }
   ],
   "source": [
    "c.get_speed()"
   ]
  },
  {
   "cell_type": "code",
   "execution_count": 37,
   "id": "f9b90892-c726-48ad-adb8-33b988fe53db",
   "metadata": {},
   "outputs": [],
   "source": [
    "c.set_speed(115)"
   ]
  },
  {
   "cell_type": "code",
   "execution_count": 38,
   "id": "d59763d3-e4b0-4d3e-b878-9db409012d71",
   "metadata": {},
   "outputs": [
    {
     "data": {
      "text/plain": [
       "115"
      ]
     },
     "execution_count": 38,
     "metadata": {},
     "output_type": "execute_result"
    }
   ],
   "source": [
    "c.get_speed()"
   ]
  },
  {
   "cell_type": "code",
   "execution_count": 8,
   "id": "4b21bd13-9317-4681-bb85-e25b87285dad",
   "metadata": {},
   "outputs": [],
   "source": [
    "class bank_account :\n",
    "    def __init__(self,balance):\n",
    "        self._balance=balance\n",
    "    def deposit(self,amount):\n",
    "        self._balance=self._balance+amount\n",
    "    def withdraw(self,amount):\n",
    "        if self._balance>=amount:\n",
    "            self._balance=self._balance-amount\n",
    "            return True\n",
    "        else:\n",
    "            return False\n",
    "    def get_balance(self):\n",
    "        return self._balance"
   ]
  },
  {
   "cell_type": "code",
   "execution_count": 9,
   "id": "00360bf3-fd7b-4af4-af77-1ba16970efbb",
   "metadata": {},
   "outputs": [],
   "source": [
    "shiv=bank_account(100)"
   ]
  },
  {
   "cell_type": "code",
   "execution_count": 10,
   "id": "9bb9e975-01c8-475a-8485-a1ebd5a83ce8",
   "metadata": {},
   "outputs": [
    {
     "data": {
      "text/plain": [
       "100"
      ]
     },
     "execution_count": 10,
     "metadata": {},
     "output_type": "execute_result"
    }
   ],
   "source": [
    "shiv.get_balance()"
   ]
  },
  {
   "cell_type": "code",
   "execution_count": 11,
   "id": "df9605b4-4cec-4bac-891c-72f85ff37978",
   "metadata": {},
   "outputs": [],
   "source": [
    "shiv.deposit(100)"
   ]
  },
  {
   "cell_type": "code",
   "execution_count": 12,
   "id": "aa7c4d6b-f30f-472a-9078-3226951dcfd1",
   "metadata": {},
   "outputs": [
    {
     "data": {
      "text/plain": [
       "200"
      ]
     },
     "execution_count": 12,
     "metadata": {},
     "output_type": "execute_result"
    }
   ],
   "source": [
    "shiv.get_balance()\n"
   ]
  },
  {
   "cell_type": "code",
   "execution_count": 13,
   "id": "4b7f7653-db1f-489d-b225-f0c378b923f7",
   "metadata": {},
   "outputs": [
    {
     "data": {
      "text/plain": [
       "True"
      ]
     },
     "execution_count": 13,
     "metadata": {},
     "output_type": "execute_result"
    }
   ],
   "source": [
    "shiv.withdraw(10)"
   ]
  },
  {
   "cell_type": "code",
   "execution_count": 14,
   "id": "4f5dcaca-0ba3-4190-b2e0-219ddda1590f",
   "metadata": {},
   "outputs": [
    {
     "data": {
      "text/plain": [
       "190"
      ]
     },
     "execution_count": 14,
     "metadata": {},
     "output_type": "execute_result"
    }
   ],
   "source": [
    "shiv.get_balance()\n"
   ]
  },
  {
   "cell_type": "code",
   "execution_count": null,
   "id": "23b713dc-2674-4662-8657-926149ab1da4",
   "metadata": {},
   "outputs": [],
   "source": []
  }
 ],
 "metadata": {
  "kernelspec": {
   "display_name": "Python 3 (ipykernel)",
   "language": "python",
   "name": "python3"
  },
  "language_info": {
   "codemirror_mode": {
    "name": "ipython",
    "version": 3
   },
   "file_extension": ".py",
   "mimetype": "text/x-python",
   "name": "python",
   "nbconvert_exporter": "python",
   "pygments_lexer": "ipython3",
   "version": "3.10.8"
  }
 },
 "nbformat": 4,
 "nbformat_minor": 5
}
