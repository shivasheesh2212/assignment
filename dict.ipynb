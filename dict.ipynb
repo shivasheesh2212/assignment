{
 "cells": [
  {
   "cell_type": "code",
   "execution_count": 1,
   "id": "9a399c29-e0e7-4528-88bc-a67a411b60df",
   "metadata": {},
   "outputs": [],
   "source": [
    "d={}"
   ]
  },
  {
   "cell_type": "code",
   "execution_count": 3,
   "id": "4e24c071-de31-45b4-b64a-37b95ba69911",
   "metadata": {},
   "outputs": [
    {
     "data": {
      "text/plain": [
       "dict"
      ]
     },
     "execution_count": 3,
     "metadata": {},
     "output_type": "execute_result"
    }
   ],
   "source": [
    "type(d)"
   ]
  },
  {
   "cell_type": "code",
   "execution_count": 4,
   "id": "2351f0c7-11ed-4e0c-9b6d-65fdcb599b28",
   "metadata": {},
   "outputs": [],
   "source": [
    "d1={'key':\"shiv\"}"
   ]
  },
  {
   "cell_type": "code",
   "execution_count": 2,
   "id": "cebec570-8dec-4c0d-bc8d-66761d541356",
   "metadata": {},
   "outputs": [],
   "source": [
    "d2={'name':\"shiv\",'emailid':\"ssingh\",'mo. no.':'9582521862'}"
   ]
  },
  {
   "cell_type": "code",
   "execution_count": 3,
   "id": "e1369b8f-75a8-4248-8b75-04318cc5bf9e",
   "metadata": {},
   "outputs": [
    {
     "data": {
      "text/plain": [
       "{'name': 'shiv', 'emailid': 'ssingh', 'mo. no.': '9582521862'}"
      ]
     },
     "execution_count": 3,
     "metadata": {},
     "output_type": "execute_result"
    }
   ],
   "source": [
    "d2"
   ]
  },
  {
   "cell_type": "code",
   "execution_count": 5,
   "id": "bba9e0fc-94bf-42fc-b0ba-1c919e412514",
   "metadata": {},
   "outputs": [
    {
     "data": {
      "text/plain": [
       "'shiv'"
      ]
     },
     "execution_count": 5,
     "metadata": {},
     "output_type": "execute_result"
    }
   ],
   "source": [
    "d2['name']"
   ]
  },
  {
   "cell_type": "code",
   "execution_count": 6,
   "id": "2f86e7cc-f46c-44a5-9ea4-efd78bf8a14f",
   "metadata": {},
   "outputs": [],
   "source": [
    "d3={'name':\"shiv\",'emailid':\"ssingh\",'mo. no.':'9582521862','name':\"shivasheesh\"}"
   ]
  },
  {
   "cell_type": "code",
   "execution_count": 7,
   "id": "cde95ba0-eb0c-4ba3-8003-4ff5dd425d76",
   "metadata": {},
   "outputs": [
    {
     "data": {
      "text/plain": [
       "'shivasheesh'"
      ]
     },
     "execution_count": 7,
     "metadata": {},
     "output_type": "execute_result"
    }
   ],
   "source": [
    "d3['name']"
   ]
  },
  {
   "cell_type": "code",
   "execution_count": 10,
   "id": "961595ea-f840-4451-8db4-ad6d18222505",
   "metadata": {},
   "outputs": [],
   "source": [
    "d4={'name':\"shiv\",'emailid':\"ssingh\",'mo. no.':'9582521862','name':\"shivasheesh\",'institute':\"iitk\",'courses':['Machines','AI','DS','Computer','Electronics','Management']}"
   ]
  },
  {
   "cell_type": "code",
   "execution_count": 11,
   "id": "d5fc2e2d-e701-4e42-a251-8d3c6fc49d86",
   "metadata": {},
   "outputs": [
    {
     "data": {
      "text/plain": [
       "{'name': 'shivasheesh',\n",
       " 'emailid': 'ssingh',\n",
       " 'mo. no.': '9582521862',\n",
       " 'institute': 'iitk',\n",
       " 'courses': ['Machines', 'AI', 'DS', 'Computer', 'Electronics', 'Management']}"
      ]
     },
     "execution_count": 11,
     "metadata": {},
     "output_type": "execute_result"
    }
   ],
   "source": [
    "d4"
   ]
  },
  {
   "cell_type": "code",
   "execution_count": 12,
   "id": "47533014-dfca-4288-95c0-0d53c2ff349f",
   "metadata": {},
   "outputs": [
    {
     "data": {
      "text/plain": [
       "'DS'"
      ]
     },
     "execution_count": 12,
     "metadata": {},
     "output_type": "execute_result"
    }
   ],
   "source": [
    "d4['courses'][2]"
   ]
  },
  {
   "cell_type": "code",
   "execution_count": 19,
   "id": "1dbf8285-b30d-4170-9614-8135373b4b03",
   "metadata": {},
   "outputs": [],
   "source": [
    "d5={'number':[2,4,65,23],'assignment':(1,2,3,4,5,6),'launch_date':[23,12,5,26]}"
   ]
  },
  {
   "cell_type": "code",
   "execution_count": 20,
   "id": "646591a2-6a4c-4fd6-b9f8-b60fade293ad",
   "metadata": {},
   "outputs": [
    {
     "data": {
      "text/plain": [
       "{'number': [2, 4, 65, 23],\n",
       " 'assignment': (1, 2, 3, 4, 5, 6),\n",
       " 'launch_date': [23, 12, 5, 26]}"
      ]
     },
     "execution_count": 20,
     "metadata": {},
     "output_type": "execute_result"
    }
   ],
   "source": [
    "d5"
   ]
  },
  {
   "cell_type": "code",
   "execution_count": 21,
   "id": "8a1bcab8-9166-4fd8-8be7-4c62fe9688bc",
   "metadata": {},
   "outputs": [
    {
     "data": {
      "text/plain": [
       "5"
      ]
     },
     "execution_count": 21,
     "metadata": {},
     "output_type": "execute_result"
    }
   ],
   "source": [
    "d5['launch_date'][2]"
   ]
  },
  {
   "cell_type": "code",
   "execution_count": 22,
   "id": "619703b7-3711-4a48-97fe-5a36c6dc0a3b",
   "metadata": {},
   "outputs": [],
   "source": [
    "d5['mentor']=['Dswami','Lchandra','Pvajpai','Rjindal']"
   ]
  },
  {
   "cell_type": "code",
   "execution_count": 23,
   "id": "5c30d66f-2237-439d-87df-0694832d30d6",
   "metadata": {},
   "outputs": [
    {
     "data": {
      "text/plain": [
       "{'number': [2, 4, 65, 23],\n",
       " 'assignment': (1, 2, 3, 4, 5, 6),\n",
       " 'launch_date': [23, 12, 5, 26],\n",
       " 'mentor': ['Dswami', 'Lchandra', 'Pvajpai', 'Rjindal']}"
      ]
     },
     "execution_count": 23,
     "metadata": {},
     "output_type": "execute_result"
    }
   ],
   "source": [
    "d5"
   ]
  },
  {
   "cell_type": "code",
   "execution_count": 27,
   "id": "a0191d02-57ce-44ae-b7a7-12286d2cfe63",
   "metadata": {},
   "outputs": [],
   "source": [
    "del d5['number']"
   ]
  },
  {
   "cell_type": "code",
   "execution_count": 28,
   "id": "fbaaef12-c963-4dc1-b586-b864e2042431",
   "metadata": {},
   "outputs": [
    {
     "data": {
      "text/plain": [
       "{'assignment': (1, 2, 3, 4, 5, 6),\n",
       " 'launch_date': [23, 12, 5, 26],\n",
       " 'mentor': ['Dswami', 'Lchandra', 'Pvajpai', 'Rjindal']}"
      ]
     },
     "execution_count": 28,
     "metadata": {},
     "output_type": "execute_result"
    }
   ],
   "source": [
    "d5"
   ]
  },
  {
   "cell_type": "code",
   "execution_count": 29,
   "id": "52777da9-2e09-4f09-bf15-8ba525a3daf0",
   "metadata": {},
   "outputs": [
    {
     "data": {
      "text/plain": [
       "dict_keys(['assignment', 'launch_date', 'mentor'])"
      ]
     },
     "execution_count": 29,
     "metadata": {},
     "output_type": "execute_result"
    }
   ],
   "source": [
    "d5.keys()"
   ]
  },
  {
   "cell_type": "code",
   "execution_count": 30,
   "id": "8e703aac-0e0b-4ef7-a9c7-45e5fb32657d",
   "metadata": {},
   "outputs": [
    {
     "data": {
      "text/plain": [
       "['assignment', 'launch_date', 'mentor']"
      ]
     },
     "execution_count": 30,
     "metadata": {},
     "output_type": "execute_result"
    }
   ],
   "source": [
    "list(d5.keys())"
   ]
  },
  {
   "cell_type": "code",
   "execution_count": 31,
   "id": "a11e90f8-e59d-4e0f-ac14-a9e84270d16c",
   "metadata": {},
   "outputs": [
    {
     "data": {
      "text/plain": [
       "dict_items([('assignment', (1, 2, 3, 4, 5, 6)), ('launch_date', [23, 12, 5, 26]), ('mentor', ['Dswami', 'Lchandra', 'Pvajpai', 'Rjindal'])])"
      ]
     },
     "execution_count": 31,
     "metadata": {},
     "output_type": "execute_result"
    }
   ],
   "source": [
    "d5.items()"
   ]
  },
  {
   "cell_type": "code",
   "execution_count": 32,
   "id": "0f7a835a-70c2-4e61-901c-5127ab7e6ef2",
   "metadata": {},
   "outputs": [
    {
     "data": {
      "text/plain": [
       "(1, 2, 3, 4, 5, 6)"
      ]
     },
     "execution_count": 32,
     "metadata": {},
     "output_type": "execute_result"
    }
   ],
   "source": [
    "d5.pop('assignment')"
   ]
  },
  {
   "cell_type": "code",
   "execution_count": 33,
   "id": "587d145e-84b9-447d-baa2-ae15a5a1777d",
   "metadata": {},
   "outputs": [
    {
     "data": {
      "text/plain": [
       "{'launch_date': [23, 12, 5, 26],\n",
       " 'mentor': ['Dswami', 'Lchandra', 'Pvajpai', 'Rjindal']}"
      ]
     },
     "execution_count": 33,
     "metadata": {},
     "output_type": "execute_result"
    }
   ],
   "source": [
    "d5"
   ]
  },
  {
   "cell_type": "code",
   "execution_count": 64,
   "id": "c2aabcc6-a398-4194-98f8-eba166f1ffbf",
   "metadata": {},
   "outputs": [],
   "source": [
    "#control statements"
   ]
  },
  {
   "cell_type": "code",
   "execution_count": 72,
   "id": "71c3b928-d84f-4b30-ae6e-98a9e194c23f",
   "metadata": {},
   "outputs": [
    {
     "ename": "TypeError",
     "evalue": "'NoneType' object is not callable",
     "output_type": "error",
     "traceback": [
      "\u001b[0;31m---------------------------------------------------------------------------\u001b[0m",
      "\u001b[0;31mTypeError\u001b[0m                                 Traceback (most recent call last)",
      "Cell \u001b[0;32mIn[72], line 1\u001b[0m\n\u001b[0;32m----> 1\u001b[0m marks\u001b[38;5;241m=\u001b[39m\u001b[38;5;28mint\u001b[39m(\u001b[38;5;28;43minput\u001b[39;49m\u001b[43m(\u001b[49m\u001b[38;5;124;43m\"\u001b[39;49m\u001b[38;5;124;43menter your marks\u001b[39;49m\u001b[38;5;124;43m\"\u001b[39;49m\u001b[43m)\u001b[49m)\n\u001b[1;32m      2\u001b[0m \u001b[38;5;28;01mif\u001b[39;00m marks\u001b[38;5;241m>\u001b[39m\u001b[38;5;241m=\u001b[39m\u001b[38;5;241m80\u001b[39m:\n\u001b[1;32m      3\u001b[0m     \u001b[38;5;28mprint\u001b[39m(\u001b[38;5;124m\"\u001b[39m\u001b[38;5;124myou are going to A0 batch\u001b[39m\u001b[38;5;124m\"\u001b[39m)\n",
      "\u001b[0;31mTypeError\u001b[0m: 'NoneType' object is not callable"
     ]
    }
   ],
   "source": [
    "marks=int(input(\"enter your marks\"))\n",
    "if marks>=80:\n",
    "    print(\"you are going to A0 batch\")\n",
    "elif 80>marks and marks>=60:\n",
    "    print(\"you are going to A1 batch\")\n",
    "elif 60>marks and marks>=40:\n",
    "    print(\"you are going to A2 batch\")\n",
    "else:\n",
    "    print(\"you are going to A3 batch\")"
   ]
  },
  {
   "cell_type": "code",
   "execution_count": 70,
   "id": "cbb5f25f-9a07-47c6-917b-ff77f4b6d218",
   "metadata": {},
   "outputs": [
    {
     "ename": "SyntaxError",
     "evalue": "'(' was never closed (659683368.py, line 1)",
     "output_type": "error",
     "traceback": [
      "\u001b[0;36m  Cell \u001b[0;32mIn[70], line 1\u001b[0;36m\u001b[0m\n\u001b[0;31m    marks=int(input(\"enter your marks\")\u001b[0m\n\u001b[0m             ^\u001b[0m\n\u001b[0;31mSyntaxError\u001b[0m\u001b[0;31m:\u001b[0m '(' was never closed\n"
     ]
    }
   ],
   "source": [
    "marks=int(input(\"enter your marks\")\n",
    "324"
   ]
  },
  {
   "cell_type": "code",
   "execution_count": 71,
   "id": "5144bd44-a4f1-4020-811e-ba7a14b5cf6f",
   "metadata": {},
   "outputs": [
    {
     "data": {
      "text/plain": [
       "int"
      ]
     },
     "execution_count": 71,
     "metadata": {},
     "output_type": "execute_result"
    }
   ],
   "source": [
    "type(marks)"
   ]
  },
  {
   "cell_type": "code",
   "execution_count": 74,
   "id": "0732f77b-8a97-4f02-ba6e-f9209bef41e4",
   "metadata": {},
   "outputs": [
    {
     "ename": "TypeError",
     "evalue": "'NoneType' object is not callable",
     "output_type": "error",
     "traceback": [
      "\u001b[0;31m---------------------------------------------------------------------------\u001b[0m",
      "\u001b[0;31mTypeError\u001b[0m                                 Traceback (most recent call last)",
      "Cell \u001b[0;32mIn[74], line 1\u001b[0m\n\u001b[0;32m----> 1\u001b[0m price\u001b[38;5;241m=\u001b[39m \u001b[38;5;28mint\u001b[39m(\u001b[38;5;28;43minput\u001b[39;49m\u001b[43m(\u001b[49m\u001b[38;5;124;43m\"\u001b[39;49m\u001b[38;5;124;43menter price\u001b[39;49m\u001b[38;5;124;43m\"\u001b[39;49m\u001b[43m)\u001b[49m)\n\u001b[1;32m      2\u001b[0m \u001b[38;5;28;01mif\u001b[39;00m price\u001b[38;5;241m>\u001b[39m\u001b[38;5;241m1000\u001b[39m:\n\u001b[1;32m      3\u001b[0m     \u001b[38;5;28mprint\u001b[39m(\u001b[38;5;124m\"\u001b[39m\u001b[38;5;124mi will not purchase\u001b[39m\u001b[38;5;124m\"\u001b[39m)\n",
      "\u001b[0;31mTypeError\u001b[0m: 'NoneType' object is not callable"
     ]
    }
   ],
   "source": [
    "price= int(input(\"enter price\"))\n",
    "if price>1000:\n",
    "    print(\"i will not purchase\")\n",
    "else:\n",
    "    print(\"i will purchase\")"
   ]
  },
  {
   "cell_type": "code",
   "execution_count": null,
   "id": "8e9cdbad-254f-44c7-a463-c31cb157b364",
   "metadata": {},
   "outputs": [],
   "source": []
  }
 ],
 "metadata": {
  "kernelspec": {
   "display_name": "Python 3 (ipykernel)",
   "language": "python",
   "name": "python3"
  },
  "language_info": {
   "codemirror_mode": {
    "name": "ipython",
    "version": 3
   },
   "file_extension": ".py",
   "mimetype": "text/x-python",
   "name": "python",
   "nbconvert_exporter": "python",
   "pygments_lexer": "ipython3",
   "version": "3.10.8"
  }
 },
 "nbformat": 4,
 "nbformat_minor": 5
}
